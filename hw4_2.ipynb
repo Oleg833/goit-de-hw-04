{
 "cells": [
  {
   "cell_type": "code",
   "execution_count": 1,
   "metadata": {},
   "outputs": [],
   "source": [
    "from pyspark.sql import SparkSession\n",
    "\n",
    "# Створюємо сесію Spark\n",
    "spark = SparkSession.builder \\\n",
    "    .master(\"local[*]\") \\\n",
    "    .config(\"spark.sql.shuffle.partitions\", \"2\") \\\n",
    "    .appName(\"MyGoitSparkSandbox\") \\\n",
    "    .getOrCreate()\n",
    "\n",
    "# Завантажуємо датасет\n",
    "nuek_df = spark.read \\\n",
    "    .option(\"header\", \"true\") \\\n",
    "    .option(\"inferSchema\", \"true\") \\\n",
    "    .csv('./nuek-vuh3.csv')\n",
    "\n",
    "nuek_repart = nuek_df.repartition(2)\n",
    "\n",
    "nuek_processed = nuek_repart \\\n",
    "    .where(\"final_priority < 3\") \\\n",
    "    .select(\"unit_id\", \"final_priority\") \\\n",
    "    .groupBy(\"unit_id\") \\\n",
    "    .count()\n",
    "    \n",
    "# Проміжний action: collect\n",
    "nuek_processed.collect()\n",
    "\n",
    "# Ось ТУТ додано рядок\n",
    "nuek_processed = nuek_processed.where(\"count>2\")\n",
    "\n",
    "nuek_processed.collect()\n",
    "\n",
    "input(\"Press Enter to continue...5\")\n",
    "\n",
    "# Закриваємо сесію Spark\n",
    "spark.stop()\n"
   ]
  }
 ],
 "metadata": {
  "kernelspec": {
   "display_name": "Python 3",
   "language": "python",
   "name": "python3"
  },
  "language_info": {
   "codemirror_mode": {
    "name": "ipython",
    "version": 3
   },
   "file_extension": ".py",
   "mimetype": "text/x-python",
   "name": "python",
   "nbconvert_exporter": "python",
   "pygments_lexer": "ipython3",
   "version": "3.11.9"
  }
 },
 "nbformat": 4,
 "nbformat_minor": 2
}
